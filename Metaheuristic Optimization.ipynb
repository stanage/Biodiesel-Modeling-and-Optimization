{
 "cells": [
  {
   "cell_type": "code",
   "execution_count": null,
   "metadata": {},
   "outputs": [],
   "source": [
    "# Due to confidentiality reasons, the data presented here has been altered and does not represent actual laboratory data obtained from experiments. \n",
    "# As a result, the results displayed in this project may exhibit statistical anomalies. \n",
    "# Nevertheless, the codes and procedures employed remain valid."
   ]
  },
  {
   "cell_type": "code",
   "execution_count": 15,
   "metadata": {},
   "outputs": [],
   "source": [
    "import numpy as np\n",
    "\n",
    "import mealpy\n",
    "from mealpy.swarm_based import MRFO"
   ]
  },
  {
   "cell_type": "markdown",
   "metadata": {},
   "source": [
    "# Oil Mixture"
   ]
  },
  {
   "cell_type": "markdown",
   "metadata": {},
   "source": [
    "## Multi-Objective Minimization: Density, Viscosity, FFA"
   ]
  },
  {
   "cell_type": "code",
   "execution_count": 19,
   "metadata": {},
   "outputs": [
    {
     "name": "stdout",
     "output_type": "stream",
     "text": [
      "N objs = 3 with weights = [1, 1, 1]\n"
     ]
    },
    {
     "name": "stderr",
     "output_type": "stream",
     "text": [
      "C:\\Users\\User\\AppData\\Local\\Temp\\ipykernel_13764\\3911338333.py:33: RuntimeWarning: overflow encountered in double_scalars\n",
      "  fx += violate(1000 * g1(x, y, z)) ** 10000\n",
      "C:\\Users\\User\\AppData\\Local\\Temp\\ipykernel_13764\\3911338333.py:51: RuntimeWarning: overflow encountered in double_scalars\n",
      "  fx += violate(1000 * g1(x, y, z)) ** 10000\n"
     ]
    },
    {
     "name": "stdout",
     "output_type": "stream",
     "text": [
      "> Epoch: 1, Current best: 839.0429571569255, Global best: 839.0429571569255, Runtime: 0.34359 seconds\n",
      "> Epoch: 2, Current best: 839.0429571569255, Global best: 839.0429571569255, Runtime: 0.17904 seconds\n",
      "> Epoch: 3, Current best: 838.4449979988945, Global best: 838.4449979988945, Runtime: 0.24975 seconds\n",
      "> Epoch: 4, Current best: 838.4449979988945, Global best: 838.4449979988945, Runtime: 0.24148 seconds\n",
      "> Epoch: 5, Current best: 838.1053415205477, Global best: 838.1053415205477, Runtime: 0.23650 seconds\n",
      "> Epoch: 6, Current best: 838.1053415205477, Global best: 838.1053415205477, Runtime: 0.23783 seconds\n",
      "> Epoch: 7, Current best: 838.1028319662448, Global best: 838.1028319662448, Runtime: 0.24771 seconds\n",
      "> Epoch: 8, Current best: 838.1028319662448, Global best: 838.1028319662448, Runtime: 0.30238 seconds\n",
      "> Epoch: 9, Current best: 838.0806649074635, Global best: 838.0806649074635, Runtime: 0.27654 seconds\n",
      "> Epoch: 10, Current best: 838.0806649074635, Global best: 838.0806649074635, Runtime: 0.18299 seconds\n",
      "[64.96753392 16.03327787 19.        ]\n",
      "fitness: 838.0806649074635\n",
      "objective values: [815.3605370750098, 44.219554808708935, -21.49942697625517]\n"
     ]
    }
   ],
   "source": [
    "\n",
    "# ============================  Density  ====================================\n",
    "def Density(x, y, z):\n",
    "     # Define the constraint x1 + x2 + x3 = 100\n",
    "    def g1(x, y, z):\n",
    "        return 100 - x - y - z\n",
    "    \n",
    "    def violate(value):\n",
    "        return 0 if value <= 0 else value\n",
    "    \n",
    "    # Function to minimize\n",
    "    fx = (1.263414e-07 + 7.112311e-06*x + 2.533417e-06*y + 2.988413e-06*z + 2.901198e-05*x**2 + 4.170154e-04*x*y + 2.652037e-04*x*z - 1.780783e-04*y**2 + \n",
    "          1.440462e-05*y*z + 1.923289e-05*z**2 - 7.928154e-05*x**3 - 9.744160e-03*x**2*y + 1.272464e-02*x**2*z + 1.984615e-02*x*y**2 + 3.159954e-02*x*y*z - \n",
    "          1.780381e-02*x*z**2 + 4.056670e-03*y**3 - 4.171065e-02*y**2*z + 1.155157e-02*y*z**2 + 8.175533e-03*z**3)\n",
    "    \n",
    "    fx += violate(10*g1(x, y, z)) ** 3\n",
    "    \n",
    "    return fx\n",
    "\n",
    "# ============================  Viscosity  ==================================\n",
    "def Viscosity(x, y, z):\n",
    "    # Define the constraint x1 + x2 + x3 = 100\n",
    "    def g1(x, y, z):\n",
    "        return 100 - x - y - z\n",
    "    \n",
    "    def violate(value):\n",
    "        return 0 if value <= 0 else value\n",
    "    \n",
    "    # Function to minimize\n",
    "    fx = (1.170514e-08 + 2.374666e-07*x + 5.614366e-07*y + 3.716103e-07*z - 2.899672e-05*x**2 - 7.570802e-06*x*y + 6.031419e-05*x*z + 4.027858e-05*y**2 + \n",
    "          2.343588e-05*y*z - 4.658904e-05*z**2 + 8.959354e-04*x**3 + 1.199546e-03*x**2*y - 4.995154e-03*x**2*z - 6.458102e-03*x*y**2 + 4.501475e-03*x*y*z + \n",
    "          6.525097e-03*x*z**2 + 2.349941e-03*y**3 + 8.136019e-03*y**2*z - 1.029391e-02*y*z**2 - 8.900960e-04*z**3)\n",
    "    \n",
    "    fx += violate(1000 * g1(x, y, z)) ** 10000 \n",
    "    \n",
    "    return fx\n",
    "    \n",
    "# ============================  FFA  =======================================\n",
    "def FFA(x, y, z):\n",
    "    # Define the constraint x1 + x2 + x3 = 100\n",
    "    def g1(x, y, z):\n",
    "        return 100 - x - y - z\n",
    "    \n",
    "    def violate(value):\n",
    "        return 0 if value <= 0 else value\n",
    "    \n",
    "    # Function to minimize\n",
    "    fx = (-6.973366e-10 + 2.881956e-07*x + 4.337971e-08*y - 4.013090e-07*z + 2.143429e-05*x**2 + 2.288919e-05*x*y - 1.550392e-05*x*z - 1.398122e-05*y**2 - \n",
    "          4.569991e-06*y*z - 2.005700e-05*z**2 - 6.527539e-04*x**3 - 1.151621e-03*x**2*y + 3.947804e-03*x**2*z + 2.404147e-03*x*y**2 + 1.036393e-03*x*y*z - \n",
    "          6.534589e-03*x*z**2 - 7.235498e-04*y**3 - 3.078720e-03*y**2*z + 1.585327e-03*y*z**2 + 2.943562e-03*z**3)\n",
    "    \n",
    "    fx += violate(1000 * g1(x, y, z)) ** 10000 \n",
    "    \n",
    "    return fx\n",
    "\n",
    "\n",
    "# =======================  Multi-Objective Function  ======================\n",
    "def obj_function(solution):\n",
    "    val1 = Density(solution[0], solution[1], solution[2])\n",
    "    val2 = Viscosity(solution[0], solution[1], solution[2])\n",
    "    val3 = FFA(solution[0], solution[1], solution[2])\n",
    "    return [val1, val2, val3]\n",
    "\n",
    "\n",
    "\n",
    "problem = {\n",
    "    \"obj_func\": obj_function,\n",
    "    \"lb\": [43.00, 9.00, 19.00],\n",
    "    \"ub\": [65.00, 33.00, 42.00],\n",
    "    \"minmax\": \"min\",\n",
    "    \"obj_weight\": [1, 1, 1]}\n",
    "\n",
    "epoch = 10\n",
    "pop_size = 1000\n",
    "somersault_range = 1.0\n",
    "\n",
    "if __name__==\"__main__\":\n",
    "    model = MRFO.BaseMRFO(problem=problem, epoch=epoch, pop_size=pop_size, somersault_range=somersault_range)\n",
    "    C_best_position, C_best_fitness = model.solve(problem)\n",
    "    print(model.solution[0])\n",
    "    print(f\"fitness: {model.solution[1][0]}\")\n",
    "    print(f\"objective values: {model.solution[1][1]}\")\n",
    "\n"
   ]
  },
  {
   "cell_type": "code",
   "execution_count": null,
   "metadata": {},
   "outputs": [],
   "source": []
  },
  {
   "cell_type": "code",
   "execution_count": null,
   "metadata": {},
   "outputs": [],
   "source": []
  },
  {
   "cell_type": "markdown",
   "metadata": {},
   "source": [
    "# Catalyst Mixture"
   ]
  },
  {
   "cell_type": "markdown",
   "metadata": {},
   "source": [
    "## Multi-Objective Maximization: Surface Area, Pore Volume"
   ]
  },
  {
   "cell_type": "code",
   "execution_count": 18,
   "metadata": {},
   "outputs": [
    {
     "name": "stdout",
     "output_type": "stream",
     "text": [
      "N objs = 2 with weights = [1, 1]\n"
     ]
    },
    {
     "name": "stderr",
     "output_type": "stream",
     "text": [
      "C:\\Users\\User\\AppData\\Local\\Temp\\ipykernel_13764\\1266293440.py:13: RuntimeWarning: overflow encountered in double_scalars\n",
      "  fx += violate(1000 * g1(x, y, z)) ** 1000\n",
      "C:\\Users\\User\\AppData\\Local\\Temp\\ipykernel_13764\\1266293440.py:29: RuntimeWarning: overflow encountered in double_scalars\n",
      "  fx += violate(10000 * g1(x, y, z)) ** 10000\n"
     ]
    },
    {
     "name": "stdout",
     "output_type": "stream",
     "text": [
      "> Epoch: 1, Current best: -895.8641328786512, Global best: -895.8641328786512, Runtime: 0.17719 seconds\n",
      "> Epoch: 2, Current best: -896.0802159446439, Global best: -896.0802159446439, Runtime: 0.09790 seconds\n",
      "> Epoch: 3, Current best: -896.0802159446439, Global best: -896.0802159446439, Runtime: 0.17349 seconds\n",
      "> Epoch: 4, Current best: -896.0802159446439, Global best: -896.0802159446439, Runtime: 0.17585 seconds\n",
      "> Epoch: 5, Current best: -896.0807142445153, Global best: -896.0807142445153, Runtime: 0.11581 seconds\n",
      "> Epoch: 6, Current best: -896.0807232527353, Global best: -896.0807232527353, Runtime: 0.08444 seconds\n",
      "> Epoch: 7, Current best: -896.0807676841018, Global best: -896.0807676841018, Runtime: 0.16887 seconds\n",
      "> Epoch: 8, Current best: -896.080769417505, Global best: -896.080769417505, Runtime: 0.16382 seconds\n",
      "> Epoch: 9, Current best: -896.080769417505, Global best: -896.080769417505, Runtime: 0.14914 seconds\n",
      "> Epoch: 10, Current best: -896.0807695561806, Global best: -896.0807695561806, Runtime: 0.10071 seconds\n",
      "[60.33       25.41803647 16.        ]\n",
      "fitness: -896.0807695561806\n",
      "objective values: [-895.6819733045709, -0.3987962516096998]\n"
     ]
    }
   ],
   "source": [
    "\n",
    "# ============================  Surface Area  =======================================\n",
    "def Area(x, y, z):\n",
    "    # Define the constraint x1 + x2 + x3 = 100\n",
    "    def g1(x, y, z):\n",
    "        return 100 - x - y - z\n",
    "    \n",
    "    def violate(value):\n",
    "        return 0 if value <= 0 else value\n",
    "    \n",
    "    # Function to maximize\n",
    "    fx = -(1.628843*x + 4.184651*y - 26.994501*z - 0.062920*x**2 - 0.745839*y**2 + 1.408394*z**2 - 2.555808*(x-y) + 28.623345*(x-z) + 31.179153*(y-z))\n",
    "    \n",
    "    fx += violate(1000 * g1(x, y, z)) ** 1000 \n",
    "    \n",
    "    return fx\n",
    "\n",
    "# ============================  Pore Volume  =======================================\n",
    "def Pore(x, y, z):\n",
    "    # Define the constraint x1 + x2 + x3 = 100\n",
    "    def g1(x, y, z):\n",
    "        return 100 - x - y - z\n",
    "    \n",
    "    def violate(value):\n",
    "        return 0 if value <= 0 else value\n",
    "    \n",
    "    # Function to maximize\n",
    "    fx = -(0.003738*x + 0.001121*y - 0.014264*z - 0.000178*x**2 - 0.000323*y**2 + 0.000763*z**2 + 0.002617*(x-y) + 0.018001*(x-z) + 0.015384*(y-z))\n",
    "    \n",
    "    fx += violate(10000 * g1(x, y, z)) ** 10000\n",
    "    \n",
    "    return fx\n",
    "\n",
    "\n",
    "# =======================  Multi-Objective Function  ======================\n",
    "def obj_function(solution):\n",
    "\n",
    "    val1 = Area(solution[0], solution[1], solution[2])\n",
    "    val2 = Pore(solution[0], solution[1], solution[2])\n",
    "    return [val1, val2]\n",
    "\n",
    "\n",
    "problem = {\n",
    "    \"obj_func\": obj_function,\n",
    "    \"lb\": [42, 8, 16],\n",
    "    \"ub\": [60.33, 33, 45],\n",
    "    \"minmax\": \"min\",\n",
    "    \"obj_weight\": [1, 1]}\n",
    "\n",
    "epoch = 10\n",
    "pop_size = 1000\n",
    "somersault_range = 1.0\n",
    "\n",
    "\n",
    "if __name__==\"__main__\":\n",
    "    model = MRFO.BaseMRFO(problem=problem, epoch=epoch, pop_size=pop_size, somersault_range=somersault_range)\n",
    "    C_best_position, C_best_fitness = model.solve(problem)\n",
    "    print(model.solution[0])\n",
    "    print(f\"fitness: {model.solution[1][0]}\")\n",
    "    print(f\"objective values: {model.solution[1][1]}\")\n",
    "\n"
   ]
  },
  {
   "cell_type": "code",
   "execution_count": null,
   "metadata": {},
   "outputs": [],
   "source": []
  },
  {
   "cell_type": "code",
   "execution_count": null,
   "metadata": {},
   "outputs": [],
   "source": []
  }
 ],
 "metadata": {
  "kernelspec": {
   "display_name": "base",
   "language": "python",
   "name": "python3"
  },
  "language_info": {
   "codemirror_mode": {
    "name": "ipython",
    "version": 3
   },
   "file_extension": ".py",
   "mimetype": "text/x-python",
   "name": "python",
   "nbconvert_exporter": "python",
   "pygments_lexer": "ipython3",
   "version": "3.9.13"
  }
 },
 "nbformat": 4,
 "nbformat_minor": 2
}
