{
 "cells": [
  {
   "cell_type": "code",
   "execution_count": null,
   "metadata": {},
   "outputs": [],
   "source": [
    "# Due to confidentiality reasons, the data presented here has been altered and does not represent actual laboratory data obtained from experiments. \n",
    "# As a result, the results displayed in this project may exhibit statistical anomalies. \n",
    "# Nevertheless, the codes and procedures employed remain valid."
   ]
  },
  {
   "cell_type": "code",
   "execution_count": 1,
   "id": "46bf5cfd",
   "metadata": {},
   "outputs": [],
   "source": [
    "import pandas as pd\n",
    "import statsmodels.api as sm\n",
    "from itertools import combinations\n",
    "from sklearn.preprocessing import PolynomialFeatures\n",
    "import numpy as np"
   ]
  },
  {
   "cell_type": "markdown",
   "id": "61dc0d66",
   "metadata": {},
   "source": [
    "# Import Data"
   ]
  },
  {
   "cell_type": "code",
   "execution_count": 10,
   "id": "5804cfd4",
   "metadata": {},
   "outputs": [],
   "source": [
    "data_oil = pd.read_excel(\"Oil and catalyst Mixture designs.xlsx\", sheet_name=\"Oil design\")\n",
    "data_cat = pd.read_excel(\"Oil and catalyst Mixture designs.xlsx\", sheet_name=\"Catalyst design\")"
   ]
  },
  {
   "cell_type": "code",
   "execution_count": null,
   "metadata": {},
   "outputs": [],
   "source": []
  },
  {
   "cell_type": "markdown",
   "metadata": {},
   "source": [
    "# Oil Mixture"
   ]
  },
  {
   "cell_type": "markdown",
   "id": "6d38148a",
   "metadata": {},
   "source": [
    "# OLS Regression Density (kg/m3)"
   ]
  },
  {
   "cell_type": "code",
   "execution_count": 17,
   "id": "69023aff",
   "metadata": {},
   "outputs": [
    {
     "name": "stdout",
     "output_type": "stream",
     "text": [
      "Overall model p-value: 0.05298282339725555\n",
      "                            OLS Regression Results                            \n",
      "==============================================================================\n",
      "Dep. Variable:        Density (kg/m3)   R-squared:                       0.857\n",
      "Model:                            OLS   Adj. R-squared:                  0.642\n",
      "Method:                 Least Squares   F-statistic:                     3.994\n",
      "Date:                Thu, 09 Nov 2023   Prob (F-statistic):             0.0530\n",
      "Time:                        21:21:32   Log-Likelihood:                -47.858\n",
      "No. Observations:                  16   AIC:                             115.7\n",
      "Df Residuals:                       6   BIC:                             123.4\n",
      "Df Model:                           9                                         \n",
      "Covariance Type:            nonrobust                                         \n",
      "==============================================================================\n",
      "                 coef    std err          t      P>|t|      [0.025      0.975]\n",
      "------------------------------------------------------------------------------\n",
      "const       1.263e-07   3.76e-08      3.361      0.015    3.44e-08    2.18e-07\n",
      "A           7.112e-06   1.77e-06      4.021      0.007    2.78e-06    1.14e-05\n",
      "B           2.533e-06   1.47e-06      1.719      0.136   -1.07e-06    6.14e-06\n",
      "C           2.988e-06   9.66e-07      3.092      0.021    6.24e-07    5.35e-06\n",
      "A^2         2.901e-05   8.68e-05      0.334      0.750      -0.000       0.000\n",
      "A B            0.0004      0.000      3.387      0.015       0.000       0.001\n",
      "A C            0.0003      0.000      1.825      0.118   -9.04e-05       0.001\n",
      "B^2           -0.0002   6.65e-05     -2.676      0.037      -0.000   -1.52e-05\n",
      "B C          1.44e-05   3.95e-05      0.364      0.728   -8.23e-05       0.000\n",
      "C^2         1.923e-05      0.000      0.191      0.855      -0.000       0.000\n",
      "A^3        -7.928e-05      0.002     -0.047      0.964      -0.004       0.004\n",
      "A^2 B         -0.0097      0.005     -1.996      0.093      -0.022       0.002\n",
      "A^2 C          0.0127      0.008      1.554      0.171      -0.007       0.033\n",
      "A B^2          0.0198      0.009      2.156      0.075      -0.003       0.042\n",
      "A B C          0.0316      0.014      2.256      0.065      -0.003       0.066\n",
      "A C^2         -0.0178      0.011     -1.569      0.168      -0.046       0.010\n",
      "B^3            0.0041      0.005      0.769      0.471      -0.009       0.017\n",
      "B^2 C         -0.0417      0.012     -3.515      0.013      -0.071      -0.013\n",
      "B C^2          0.0116      0.016      0.723      0.497      -0.028       0.051\n",
      "C^3            0.0082      0.004      1.952      0.099      -0.002       0.018\n",
      "==============================================================================\n",
      "Omnibus:                        1.269   Durbin-Watson:                   1.880\n",
      "Prob(Omnibus):                  0.530   Jarque-Bera (JB):                0.841\n",
      "Skew:                          -0.179   Prob(JB):                        0.657\n",
      "Kurtosis:                       1.935   Cond. No.                     7.44e+18\n",
      "==============================================================================\n",
      "\n",
      "Notes:\n",
      "[1] Standard Errors assume that the covariance matrix of the errors is correctly specified.\n",
      "[2] The input rank is higher than the number of observations.\n",
      "[3] The smallest eigenvalue is 1.11e-26. This might indicate that there are\n",
      "strong multicollinearity problems or that the design matrix is singular.\n"
     ]
    },
    {
     "name": "stderr",
     "output_type": "stream",
     "text": [
      "c:\\ProgramData\\Anaconda3\\lib\\site-packages\\sklearn\\utils\\deprecation.py:87: FutureWarning: Function get_feature_names is deprecated; get_feature_names is deprecated in 1.0 and will be removed in 1.2. Please use get_feature_names_out instead.\n",
      "  warnings.warn(msg, category=FutureWarning)\n",
      "C:\\Users\\User\\AppData\\Roaming\\Python\\Python39\\site-packages\\scipy\\stats\\_stats_py.py:1772: UserWarning: kurtosistest only valid for n>=20 ... continuing anyway, n=16\n",
      "  warnings.warn(\"kurtosistest only valid for n>=20 ... continuing \"\n"
     ]
    }
   ],
   "source": [
    "input_oil = data_oil[data_oil.columns[1:4]]\n",
    "response_oil = data_oil[data_oil.columns[4:7]]\n",
    "\n",
    "\n",
    "# Generate polynomial interactions up to the 3rd order\n",
    "poly = PolynomialFeatures(degree=3, include_bias=False)\n",
    "input_poly_oil = poly.fit_transform(input_oil)\n",
    "\n",
    "# Create column names for the polynomial terms\n",
    "poly_cols = poly.get_feature_names(input_oil.columns)\n",
    "\n",
    "# Convert the polynomial array to a DataFrame\n",
    "input_oil = pd.DataFrame(input_poly_oil, columns=poly_cols)\n",
    "\n",
    "# Add a constant column for the intercept term in the input DataFrame\n",
    "input_oil = sm.add_constant(input_oil)\n",
    "\n",
    "# Fit the regression model\n",
    "model = sm.OLS(response_oil['Density (kg/m3)'], input_oil)\n",
    "results = model.fit()\n",
    "\n",
    "\n",
    "# Access the overall model p-value\n",
    "model_pvalue = results.f_pvalue\n",
    "\n",
    "# Print the model p-value\n",
    "print(\"Overall model p-value:\", model_pvalue)\n",
    "\n",
    "# Print the statistical regression analysis summary\n",
    "print(results.summary())\n"
   ]
  },
  {
   "cell_type": "code",
   "execution_count": null,
   "id": "c21ede2e",
   "metadata": {},
   "outputs": [],
   "source": []
  },
  {
   "cell_type": "markdown",
   "id": "c749d263",
   "metadata": {},
   "source": [
    "# OLS Regression Viscosity (mPa.s)"
   ]
  },
  {
   "cell_type": "code",
   "execution_count": 18,
   "id": "ac16d767",
   "metadata": {},
   "outputs": [
    {
     "name": "stdout",
     "output_type": "stream",
     "text": [
      "Overall model p-value: 0.2444253818846114\n",
      "                            OLS Regression Results                            \n",
      "==============================================================================\n",
      "Dep. Variable:      Viscosity (mPa.s)   R-squared:                       0.730\n",
      "Model:                            OLS   Adj. R-squared:                  0.324\n",
      "Method:                 Least Squares   F-statistic:                     1.799\n",
      "Date:                Thu, 09 Nov 2023   Prob (F-statistic):              0.244\n",
      "Time:                        21:21:47   Log-Likelihood:                -32.761\n",
      "No. Observations:                  16   AIC:                             85.52\n",
      "Df Residuals:                       6   BIC:                             93.25\n",
      "Df Model:                           9                                         \n",
      "Covariance Type:            nonrobust                                         \n",
      "==============================================================================\n",
      "                 coef    std err          t      P>|t|      [0.025      0.975]\n",
      "------------------------------------------------------------------------------\n",
      "const       1.171e-08   1.46e-08      0.800      0.454   -2.41e-08    4.75e-08\n",
      "A           2.375e-07   6.88e-07      0.345      0.742   -1.45e-06    1.92e-06\n",
      "B           5.614e-07   5.74e-07      0.979      0.366   -8.43e-07    1.97e-06\n",
      "C           3.716e-07   3.76e-07      0.988      0.361   -5.49e-07    1.29e-06\n",
      "A^2          -2.9e-05   3.38e-05     -0.858      0.424      -0.000    5.37e-05\n",
      "A B        -7.571e-06   4.79e-05     -0.158      0.880      -0.000       0.000\n",
      "A C         6.031e-05   5.66e-05      1.066      0.327   -7.81e-05       0.000\n",
      "B^2         4.028e-05   2.59e-05      1.555      0.171   -2.31e-05       0.000\n",
      "B C         2.344e-05   1.54e-05      1.523      0.179   -1.42e-05    6.11e-05\n",
      "C^2        -4.659e-05   3.92e-05     -1.188      0.280      -0.000    4.94e-05\n",
      "A^3            0.0009      0.001      1.357      0.224      -0.001       0.003\n",
      "A^2 B          0.0012      0.002      0.631      0.551      -0.003       0.006\n",
      "A^2 C         -0.0050      0.003     -1.567      0.168      -0.013       0.003\n",
      "A B^2         -0.0065      0.004     -1.802      0.122      -0.015       0.002\n",
      "A B C          0.0045      0.005      0.826      0.441      -0.009       0.018\n",
      "A C^2          0.0065      0.004      1.478      0.190      -0.004       0.017\n",
      "B^3            0.0023      0.002      1.144      0.296      -0.003       0.007\n",
      "B^2 C          0.0081      0.005      1.761      0.129      -0.003       0.019\n",
      "B C^2         -0.0103      0.006     -1.655      0.149      -0.026       0.005\n",
      "C^3           -0.0009      0.002     -0.546      0.605      -0.005       0.003\n",
      "==============================================================================\n",
      "Omnibus:                        3.799   Durbin-Watson:                   2.143\n",
      "Prob(Omnibus):                  0.150   Jarque-Bera (JB):                1.509\n",
      "Skew:                          -0.510   Prob(JB):                        0.470\n",
      "Kurtosis:                       4.106   Cond. No.                     7.44e+18\n",
      "==============================================================================\n",
      "\n",
      "Notes:\n",
      "[1] Standard Errors assume that the covariance matrix of the errors is correctly specified.\n",
      "[2] The input rank is higher than the number of observations.\n",
      "[3] The smallest eigenvalue is 1.11e-26. This might indicate that there are\n",
      "strong multicollinearity problems or that the design matrix is singular.\n"
     ]
    },
    {
     "name": "stderr",
     "output_type": "stream",
     "text": [
      "c:\\ProgramData\\Anaconda3\\lib\\site-packages\\sklearn\\utils\\deprecation.py:87: FutureWarning: Function get_feature_names is deprecated; get_feature_names is deprecated in 1.0 and will be removed in 1.2. Please use get_feature_names_out instead.\n",
      "  warnings.warn(msg, category=FutureWarning)\n",
      "C:\\Users\\User\\AppData\\Roaming\\Python\\Python39\\site-packages\\scipy\\stats\\_stats_py.py:1772: UserWarning: kurtosistest only valid for n>=20 ... continuing anyway, n=16\n",
      "  warnings.warn(\"kurtosistest only valid for n>=20 ... continuing \"\n"
     ]
    }
   ],
   "source": [
    "input_oil = data_oil[data_oil.columns[1:4]]\n",
    "response_oil = data_oil[data_oil.columns[4:7]]\n",
    "\n",
    "\n",
    "# Generate polynomial interactions up to the 3rd order\n",
    "poly = PolynomialFeatures(degree=3, include_bias=False)\n",
    "input_poly_oil = poly.fit_transform(input_oil)\n",
    "\n",
    "# Create column names for the polynomial terms\n",
    "poly_cols = poly.get_feature_names(input_oil.columns)\n",
    "\n",
    "# Convert the polynomial array to a DataFrame\n",
    "input_oil = pd.DataFrame(input_poly_oil, columns=poly_cols)\n",
    "\n",
    "# Add a constant column for the intercept term in the input DataFrame\n",
    "input_oil = sm.add_constant(input_oil)\n",
    "\n",
    "# Fit the regression model\n",
    "model = sm.OLS(response_oil['Viscosity (mPa.s)'], input_oil)\n",
    "results = model.fit()\n",
    "\n",
    "\n",
    "# Access the overall model p-value\n",
    "model_pvalue = results.f_pvalue\n",
    "\n",
    "# Print the model p-value\n",
    "print(\"Overall model p-value:\", model_pvalue)\n",
    "\n",
    "# Print the statistical regression analysis summary\n",
    "print(results.summary())\n"
   ]
  },
  {
   "cell_type": "code",
   "execution_count": null,
   "id": "3ecf6e04",
   "metadata": {},
   "outputs": [],
   "source": []
  },
  {
   "cell_type": "markdown",
   "id": "c5ea2e46",
   "metadata": {},
   "source": [
    "# OLS Regression FFA"
   ]
  },
  {
   "cell_type": "code",
   "execution_count": 19,
   "id": "85442f58",
   "metadata": {},
   "outputs": [
    {
     "name": "stdout",
     "output_type": "stream",
     "text": [
      "Overall model p-value: 0.2215532811346332\n",
      "                            OLS Regression Results                            \n",
      "==============================================================================\n",
      "Dep. Variable:                    FFA   R-squared:                       0.742\n",
      "Model:                            OLS   Adj. R-squared:                  0.354\n",
      "Method:                 Least Squares   F-statistic:                     1.913\n",
      "Date:                Thu, 09 Nov 2023   Prob (F-statistic):              0.222\n",
      "Time:                        21:21:59   Log-Likelihood:                -20.670\n",
      "No. Observations:                  16   AIC:                             61.34\n",
      "Df Residuals:                       6   BIC:                             69.07\n",
      "Df Model:                           9                                         \n",
      "Covariance Type:            nonrobust                                         \n",
      "==============================================================================\n",
      "                 coef    std err          t      P>|t|      [0.025      0.975]\n",
      "------------------------------------------------------------------------------\n",
      "const      -6.973e-10   6.87e-09     -0.101      0.922   -1.75e-08    1.61e-08\n",
      "A           2.882e-07   3.23e-07      0.891      0.407   -5.03e-07    1.08e-06\n",
      "B           4.338e-08   2.69e-07      0.161      0.877   -6.16e-07    7.03e-07\n",
      "C          -4.013e-07   1.77e-07     -2.271      0.064   -8.34e-07     3.1e-08\n",
      "A^2         2.143e-05   1.59e-05      1.351      0.226   -1.74e-05    6.03e-05\n",
      "A B         2.289e-05   2.25e-05      1.017      0.348   -3.22e-05     7.8e-05\n",
      "A C         -1.55e-05   2.66e-05     -0.584      0.581   -8.05e-05    4.95e-05\n",
      "B^2        -1.398e-05   1.22e-05     -1.149      0.294   -4.38e-05    1.58e-05\n",
      "B C         -4.57e-06   7.23e-06     -0.632      0.551   -2.23e-05    1.31e-05\n",
      "C^2        -2.006e-05   1.84e-05     -1.089      0.318   -6.51e-05     2.5e-05\n",
      "A^3           -0.0007      0.000     -2.104      0.080      -0.001       0.000\n",
      "A^2 B         -0.0012      0.001     -1.290      0.244      -0.003       0.001\n",
      "A^2 C          0.0039      0.001      2.637      0.039       0.000       0.008\n",
      "A B^2          0.0024      0.002      1.428      0.203      -0.002       0.007\n",
      "A B C          0.0010      0.003      0.405      0.700      -0.005       0.007\n",
      "A C^2         -0.0065      0.002     -3.151      0.020      -0.012      -0.001\n",
      "B^3           -0.0007      0.001     -0.750      0.481      -0.003       0.002\n",
      "B^2 C         -0.0031      0.002     -1.419      0.206      -0.008       0.002\n",
      "B C^2          0.0016      0.003      0.543      0.607      -0.006       0.009\n",
      "C^3            0.0029      0.001      3.844      0.009       0.001       0.005\n",
      "==============================================================================\n",
      "Omnibus:                        3.432   Durbin-Watson:                   2.195\n",
      "Prob(Omnibus):                  0.180   Jarque-Bera (JB):                1.530\n",
      "Skew:                          -0.714   Prob(JB):                        0.465\n",
      "Kurtosis:                       3.508   Cond. No.                     7.44e+18\n",
      "==============================================================================\n",
      "\n",
      "Notes:\n",
      "[1] Standard Errors assume that the covariance matrix of the errors is correctly specified.\n",
      "[2] The input rank is higher than the number of observations.\n",
      "[3] The smallest eigenvalue is 1.11e-26. This might indicate that there are\n",
      "strong multicollinearity problems or that the design matrix is singular.\n"
     ]
    },
    {
     "name": "stderr",
     "output_type": "stream",
     "text": [
      "c:\\ProgramData\\Anaconda3\\lib\\site-packages\\sklearn\\utils\\deprecation.py:87: FutureWarning: Function get_feature_names is deprecated; get_feature_names is deprecated in 1.0 and will be removed in 1.2. Please use get_feature_names_out instead.\n",
      "  warnings.warn(msg, category=FutureWarning)\n",
      "C:\\Users\\User\\AppData\\Roaming\\Python\\Python39\\site-packages\\scipy\\stats\\_stats_py.py:1772: UserWarning: kurtosistest only valid for n>=20 ... continuing anyway, n=16\n",
      "  warnings.warn(\"kurtosistest only valid for n>=20 ... continuing \"\n"
     ]
    }
   ],
   "source": [
    "input_oil = data_oil[data_oil.columns[1:4]]\n",
    "response_oil = data_oil[data_oil.columns[4:7]]\n",
    "\n",
    "# Generate polynomial interactions up to the 3rd order\n",
    "poly = PolynomialFeatures(degree=3, include_bias=False)\n",
    "input_poly_oil = poly.fit_transform(input_oil)\n",
    "\n",
    "# Create column names for the polynomial terms\n",
    "poly_cols = poly.get_feature_names(input_oil.columns)\n",
    "\n",
    "# Convert the polynomial array to a DataFrame\n",
    "input_oil = pd.DataFrame(input_poly_oil, columns=poly_cols)\n",
    "\n",
    "# Add a constant column for the intercept term in the input DataFrame\n",
    "input_oil = sm.add_constant(input_oil)\n",
    "\n",
    "# Fit the regression model\n",
    "model = sm.OLS(response_oil['FFA'], input_oil)\n",
    "results = model.fit()\n",
    "\n",
    "\n",
    "# Access the overall model p-value\n",
    "model_pvalue = results.f_pvalue\n",
    "\n",
    "# Print the model p-value\n",
    "print(\"Overall model p-value:\", model_pvalue)\n",
    "\n",
    "# Print the statistical regression analysis summary\n",
    "print(results.summary())\n"
   ]
  },
  {
   "cell_type": "code",
   "execution_count": null,
   "id": "1e9fc228",
   "metadata": {},
   "outputs": [],
   "source": []
  },
  {
   "cell_type": "markdown",
   "id": "65e25a5d",
   "metadata": {},
   "source": [
    "# Catalyst Mixture"
   ]
  },
  {
   "cell_type": "markdown",
   "id": "650b47b5",
   "metadata": {},
   "source": [
    "# OLS Regression Surface area (m2/g)"
   ]
  },
  {
   "cell_type": "code",
   "execution_count": 20,
   "metadata": {},
   "outputs": [
    {
     "name": "stdout",
     "output_type": "stream",
     "text": [
      "Overall model p-value: 0.0016802235005440903\n",
      "                             OLS Regression Results                            \n",
      "===============================================================================\n",
      "Dep. Variable:     Surface area (m2/g)   R-squared:                       0.821\n",
      "Model:                             OLS   Adj. R-squared:                  0.732\n",
      "Method:                  Least Squares   F-statistic:                     9.190\n",
      "Date:                 Thu, 09 Nov 2023   Prob (F-statistic):            0.00168\n",
      "Time:                         21:22:58   Log-Likelihood:                -90.167\n",
      "No. Observations:                   16   AIC:                             192.3\n",
      "Df Residuals:                       10   BIC:                             197.0\n",
      "Df Model:                            5                                         \n",
      "Covariance Type:             nonrobust                                         \n",
      "==============================================================================\n",
      "                 coef    std err          t      P>|t|      [0.025      0.975]\n",
      "------------------------------------------------------------------------------\n",
      "A              1.6288     20.310      0.080      0.938     -43.624      46.882\n",
      "B              4.1847      7.656      0.547      0.597     -12.873      21.243\n",
      "C            -26.9945      8.454     -3.193      0.010     -45.832      -8.157\n",
      "A_sq          -0.0629      0.824     -0.076      0.941      -1.900       1.774\n",
      "B_sq          -0.7458      0.442     -1.686      0.123      -1.732       0.240\n",
      "C_sq           1.4084      0.359      3.919      0.003       0.608       2.209\n",
      "A-B           -2.5558     21.796     -0.117      0.909     -51.120      46.009\n",
      "A-C           28.6233     24.100      1.188      0.262     -25.076      82.322\n",
      "B-C           31.1792      7.484      4.166      0.002      14.503      47.855\n",
      "==============================================================================\n",
      "Omnibus:                        2.433   Durbin-Watson:                   2.214\n",
      "Prob(Omnibus):                  0.296   Jarque-Bera (JB):                0.702\n",
      "Skew:                          -0.353   Prob(JB):                        0.704\n",
      "Kurtosis:                       3.745   Cond. No.                     3.05e+18\n",
      "==============================================================================\n",
      "\n",
      "Notes:\n",
      "[1] Standard Errors assume that the covariance matrix of the errors is correctly specified.\n",
      "[2] The smallest eigenvalue is 1.5e-29. This might indicate that there are\n",
      "strong multicollinearity problems or that the design matrix is singular.\n"
     ]
    },
    {
     "name": "stderr",
     "output_type": "stream",
     "text": [
      "C:\\Users\\User\\AppData\\Roaming\\Python\\Python39\\site-packages\\scipy\\stats\\_stats_py.py:1772: UserWarning: kurtosistest only valid for n>=20 ... continuing anyway, n=16\n",
      "  warnings.warn(\"kurtosistest only valid for n>=20 ... continuing \"\n"
     ]
    }
   ],
   "source": [
    "input_cat = data_cat[data_cat.columns[1:4]]\n",
    "response_cat = data_cat[data_cat.columns[4:6]]\n",
    "\n",
    "# Square each column\n",
    "sqTable = pd.DataFrame({'A_sq': input_cat['A']**2,\n",
    "                         'B_sq': input_cat['B']**2,\n",
    "                         'C_sq': input_cat['C']**2})\n",
    "\n",
    "\n",
    "# Merge the firstTable with sqTable\n",
    "meTable = pd.concat([input_cat, sqTable], axis=1)\n",
    "\n",
    "\n",
    "# Perform the operations on firstTable A-B, A-C, B-C\n",
    "subTable = pd.DataFrame({'A-B': input_cat['A'] - input_cat['B'],\n",
    "                         'A-C': input_cat['A'] - input_cat['C'],\n",
    "                         'B-C': input_cat['B'] - input_cat['C']})\n",
    "\n",
    "# Merge subTable with meTable\n",
    "input_cat = pd.concat([meTable, subTable], axis=1)\n",
    "\n",
    "gg = input_cat\n",
    "\n",
    "# Fit the regression model\n",
    "model = sm.OLS(response_cat['Surface area (m2/g)'], input_cat)\n",
    "results = model.fit()\n",
    "\n",
    "\n",
    "# Access the overall model p-value\n",
    "model_pvalue = results.f_pvalue\n",
    "\n",
    "# Print the model p-value\n",
    "print(\"Overall model p-value:\", model_pvalue)\n",
    "\n",
    "# Print the statistical regression analysis summary\n",
    "print(results.summary())"
   ]
  },
  {
   "cell_type": "code",
   "execution_count": null,
   "id": "b013f85b",
   "metadata": {},
   "outputs": [],
   "source": []
  },
  {
   "cell_type": "markdown",
   "id": "a06c2947",
   "metadata": {},
   "source": [
    "# OLS Regression Pore volume (cc/g)"
   ]
  },
  {
   "cell_type": "code",
   "execution_count": 21,
   "metadata": {},
   "outputs": [
    {
     "name": "stdout",
     "output_type": "stream",
     "text": [
      "Overall model p-value: 0.07322868952088613\n",
      "                            OLS Regression Results                            \n",
      "==============================================================================\n",
      "Dep. Variable:     Pore volume (cc/g)   R-squared:                       0.589\n",
      "Model:                            OLS   Adj. R-squared:                  0.384\n",
      "Method:                 Least Squares   F-statistic:                     2.871\n",
      "Date:                Thu, 09 Nov 2023   Prob (F-statistic):             0.0732\n",
      "Time:                        21:23:10   Log-Likelihood:                 26.001\n",
      "No. Observations:                  16   AIC:                            -40.00\n",
      "Df Residuals:                      10   BIC:                            -35.37\n",
      "Df Model:                           5                                         \n",
      "Covariance Type:            nonrobust                                         \n",
      "==============================================================================\n",
      "                 coef    std err          t      P>|t|      [0.025      0.975]\n",
      "------------------------------------------------------------------------------\n",
      "A              0.0037      0.014      0.262      0.799      -0.028       0.036\n",
      "B              0.0011      0.005      0.208      0.839      -0.011       0.013\n",
      "C             -0.0143      0.006     -2.401      0.037      -0.028      -0.001\n",
      "A_sq          -0.0002      0.001     -0.306      0.766      -0.001       0.001\n",
      "B_sq          -0.0003      0.000     -1.040      0.323      -0.001       0.000\n",
      "C_sq           0.0008      0.000      3.021      0.013       0.000       0.001\n",
      "A-B            0.0026      0.015      0.171      0.868      -0.032       0.037\n",
      "A-C            0.0180      0.017      1.063      0.313      -0.020       0.056\n",
      "B-C            0.0154      0.005      2.925      0.015       0.004       0.027\n",
      "==============================================================================\n",
      "Omnibus:                        2.805   Durbin-Watson:                   1.102\n",
      "Prob(Omnibus):                  0.246   Jarque-Bera (JB):                1.283\n",
      "Skew:                          -0.679   Prob(JB):                        0.526\n",
      "Kurtosis:                       3.287   Cond. No.                     3.05e+18\n",
      "==============================================================================\n",
      "\n",
      "Notes:\n",
      "[1] Standard Errors assume that the covariance matrix of the errors is correctly specified.\n",
      "[2] The smallest eigenvalue is 1.5e-29. This might indicate that there are\n",
      "strong multicollinearity problems or that the design matrix is singular.\n"
     ]
    },
    {
     "name": "stderr",
     "output_type": "stream",
     "text": [
      "C:\\Users\\User\\AppData\\Roaming\\Python\\Python39\\site-packages\\scipy\\stats\\_stats_py.py:1772: UserWarning: kurtosistest only valid for n>=20 ... continuing anyway, n=16\n",
      "  warnings.warn(\"kurtosistest only valid for n>=20 ... continuing \"\n"
     ]
    }
   ],
   "source": [
    "input_cat = data_cat[data_cat.columns[1:4]]\n",
    "response_cat = data_cat[data_cat.columns[4:6]]\n",
    "\n",
    "# Square each column\n",
    "sqTable = pd.DataFrame({'A_sq': input_cat['A']**2,\n",
    "                         'B_sq': input_cat['B']**2,\n",
    "                         'C_sq': input_cat['C']**2})\n",
    "\n",
    "\n",
    "# Merge the firstTable with sqTable\n",
    "meTable = pd.concat([input_cat, sqTable], axis=1)\n",
    "\n",
    "\n",
    "# Perform the operations on firstTable A-B, A-C, B-C\n",
    "subTable = pd.DataFrame({'A-B': input_cat['A'] - input_cat['B'],\n",
    "                         'A-C': input_cat['A'] - input_cat['C'],\n",
    "                         'B-C': input_cat['B'] - input_cat['C']})\n",
    "\n",
    "# Merge subTable with meTable\n",
    "input_cat = pd.concat([meTable, subTable], axis=1)\n",
    "\n",
    "\n",
    "\n",
    "# Fit the regression model\n",
    "model = sm.OLS(response_cat['Pore volume (cc/g)'], input_cat)\n",
    "results = model.fit()\n",
    "\n",
    "\n",
    "# Access the overall model p-value\n",
    "model_pvalue = results.f_pvalue\n",
    "\n",
    "# Print the model p-value\n",
    "print(\"Overall model p-value:\", model_pvalue)\n",
    "\n",
    "# Print the statistical regression analysis summary\n",
    "print(results.summary())"
   ]
  },
  {
   "cell_type": "code",
   "execution_count": null,
   "id": "34b226c5",
   "metadata": {},
   "outputs": [],
   "source": []
  },
  {
   "cell_type": "code",
   "execution_count": null,
   "id": "1cb7c31c",
   "metadata": {},
   "outputs": [],
   "source": []
  }
 ],
 "metadata": {
  "kernelspec": {
   "display_name": "Python 3 (ipykernel)",
   "language": "python",
   "name": "python3"
  },
  "language_info": {
   "codemirror_mode": {
    "name": "ipython",
    "version": 3
   },
   "file_extension": ".py",
   "mimetype": "text/x-python",
   "name": "python",
   "nbconvert_exporter": "python",
   "pygments_lexer": "ipython3",
   "version": "3.9.13"
  }
 },
 "nbformat": 4,
 "nbformat_minor": 5
}
